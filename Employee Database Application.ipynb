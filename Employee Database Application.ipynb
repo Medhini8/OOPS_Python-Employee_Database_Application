{
 "cells": [
  {
   "cell_type": "markdown",
   "metadata": {},
   "source": [
    "## Employee Database Application"
   ]
  },
  {
   "cell_type": "code",
   "execution_count": 1,
   "metadata": {},
   "outputs": [],
   "source": [
    "class Vehicle:\n",
    "    def __init__(self, vmk, vmd, vy, vml):\n",
    "        self.__make = vmk\n",
    "        self.__model = vmd\n",
    "        self.__year = vy\n",
    "        self.__mileage = vml\n",
    "\n",
    "    def get_make(self):\n",
    "        return self.__make\n",
    "\n",
    "    def get_model(self):\n",
    "        return self.__model\n",
    "\n",
    "    def get_year(self):\n",
    "        return self.__year\n",
    "\n",
    "    def get_mileage(self):\n",
    "        return self.__mileage\n",
    "\n",
    "    def set_make(self, vmk):\n",
    "        self.__make = vmk\n",
    "\n",
    "    def set_model(self, vmd):\n",
    "        self.__model = vmd\n",
    "\n",
    "    def set_year(self, vy):\n",
    "        self.__year = vy\n",
    "\n",
    "    def set_mileage(self, vml):\n",
    "        self.__mileage = vml\n",
    "\n",
    "    def __str__(self):\n",
    "        return \"Make: \" + self.__make + \"; Model: \" + self.__model + \"; Year of Manufacture: \" + str(self.__year) + \"; Mileage: \" + str(self.__mileage)"
   ]
  },
  {
   "cell_type": "code",
   "execution_count": 2,
   "metadata": {},
   "outputs": [
    {
     "name": "stdout",
     "output_type": "stream",
     "text": [
      "Make: Honda; Model: Civic; Year of Manufacture: 2014; Mileage: 50000\n",
      "The mileage of this vehicle is: 50000\n",
      "The year of manufacture of this vehicle is: 2012\n"
     ]
    }
   ],
   "source": [
    "vehicle1=Vehicle(\"Honda\",\"Civic\",2014,50000)\n",
    "print(vehicle1)\n",
    "print(\"The mileage of this vehicle is:\", vehicle1.get_mileage())\n",
    "vehicle1.set_year(2012)\n",
    "print(\"The year of manufacture of this vehicle is:\", vehicle1.get_year())"
   ]
  },
  {
   "cell_type": "code",
   "execution_count": 3,
   "metadata": {},
   "outputs": [],
   "source": [
    "class Employee:\n",
    "    def __init__(self, nm, addr, veh):\n",
    "        self.__emp_name = nm\n",
    "        self.__emp_addr = addr\n",
    "        self.__vehicle = veh\n",
    "\n",
    "    def get_emp_name(self):\n",
    "        return self.__emp_name\n",
    "\n",
    "    def get_emp_addr(self):\n",
    "        return self.__emp_addr\n",
    "\n",
    "    def get_vehicle(self):\n",
    "        return self.__vehicle\n",
    "\n",
    "    def set_emp_name(self, nm):\n",
    "        self.__emp_name = nm\n",
    "\n",
    "    def set_emp_addr(self, addr):\n",
    "        self.__emp_addr = addr\n",
    "\n",
    "    def set_vehicle(self, veh):\n",
    "        self.__vehicle = veh\n",
    "\n",
    "    def compute_compensation(self):\n",
    "        pass\n",
    "\n",
    "    def __str__(self):\n",
    "        allData = \"\\nEmployee Name: \" + self.__emp_name\n",
    "        allData += \"; Employee Address: \" + str(self.__emp_addr)\n",
    "        allData +=  \"\\n\" + self.__vehicle.__str__()\n",
    "        return allData"
   ]
  },
  {
   "cell_type": "code",
   "execution_count": 4,
   "metadata": {},
   "outputs": [
    {
     "name": "stdout",
     "output_type": "stream",
     "text": [
      "\n",
      "Employee Name: Amy; Employee Address: 100 W Campbell Road, Richardson, Texas, 75080\n",
      "Make: Honda; Model: Civic; Year of Manufacture: 2012; Mileage: 50000\n",
      "Amy lives at 100 W Campbell Road, Richardson, Texas, 75080.\n",
      "Amy owns a Honda Civic vehicle.\n",
      "Amy lives at 800 E Campbell Road, Richardson, Texas, 75080.\n"
     ]
    }
   ],
   "source": [
    "emp1=Employee(\"Amy\", \"100 W Campbell Road, Richardson, Texas, 75080\",vehicle1)\n",
    "print(emp1)\n",
    "print(\"{0} lives at {1}.\".format(emp1.get_emp_name(),emp1.get_emp_addr()))\n",
    "print(\"{0} owns a {1} {2} vehicle.\".format(emp1.get_emp_name(),emp1.get_vehicle().get_make(),emp1.get_vehicle().get_model()))\n",
    "emp1.set_emp_addr(\"800 E Campbell Road, Richardson, Texas, 75080\")\n",
    "print(\"{0} lives at {1}.\".format(emp1.get_emp_name(),emp1.get_emp_addr()))"
   ]
  },
  {
   "cell_type": "code",
   "execution_count": 5,
   "metadata": {},
   "outputs": [],
   "source": [
    "#Full Time Employee class inherits from Employee class\n",
    "#the order of the four required positional arguments should be: name,address,vehicle object,salary\n",
    "\n",
    "class FullTimeEmployee(Employee):\n",
    "    def __init__(self, nm, addr, veh, sal):\n",
    "        Employee.__init__(self,nm, addr, veh)\n",
    "        self.__salary = sal\n",
    "        \n",
    "    def get_salary(self):\n",
    "        return self.__salary\n",
    "\n",
    "    def set_salary(self, sal):\n",
    "        self.__salary = sal\n",
    "        \n",
    "    def compute_compensation(self):\n",
    "        if self.__salary <= 45000:\n",
    "            annual_compensation = self.__salary * (1 - 0.18)\n",
    "        elif self.__salary > 45000 and self.__salary <= 82000:\n",
    "            annual_compensation = (self.__salary - 45000) * (1 - 0.28) + 36900\n",
    "        else:\n",
    "            annual_compensation = (self.__salary - 82000) * (1 - 0.33) + 63540\n",
    "        return (annual_compensation/52)\n",
    "    \n",
    "    def compute_reimbursement(self,exp):\n",
    "        if int(exp) <= 10000:\n",
    "            annual_reimb = int(exp)\n",
    "        else :\n",
    "            annual_reimb = 10000 + (0.5 * (exp-10000))\n",
    "        return (annual_reimb/52)\n",
    "    \n",
    "\n",
    "    def __str__(self):\n",
    "\n",
    "        childData = super().__str__()\n",
    "        childData = \"\\nDetails of this Full Time Employee are:\" + childData\n",
    "        childData += \"\\nSalary: \" + '{0:0.2f}'.format(self.__salary)\n",
    "        return childData"
   ]
  },
  {
   "cell_type": "code",
   "execution_count": 6,
   "metadata": {},
   "outputs": [
    {
     "name": "stdout",
     "output_type": "stream",
     "text": [
      "\n",
      "Details of this Full Time Employee are:\n",
      "Employee Name: Amy; Employee Address: 100 W Campbell Road, Richardson, Texas, 75080\n",
      "Make: Honda; Model: Civic; Year of Manufacture: 2012; Mileage: 50000\n",
      "Salary: 40000.00\n",
      "Amy has an annual salary of $40000.\n",
      "Amy has a weekly compensation of $630.77.\n",
      "Amy has a weekly reimbursement of $211.54.\n",
      "Amy has an annual salary of $50000.\n"
     ]
    }
   ],
   "source": [
    "emp2=FullTimeEmployee(\"Amy\", \"100 W Campbell Road, Richardson, Texas, 75080\", vehicle1, 40000)\n",
    "print(emp2)\n",
    "print(\"{0} has an annual salary of ${1}.\".format(emp2.get_emp_name(),emp2.get_salary()))\n",
    "print(\"{0} has a weekly compensation of ${1:0.2f}.\".format(emp2.get_emp_name(),emp2.compute_compensation()))\n",
    "print(\"{0} has a weekly reimbursement of ${1:0.2f}.\".format(emp2.get_emp_name(),emp2.compute_reimbursement(12000)))\n",
    "emp2.set_salary(50000)\n",
    "print(\"{0} has an annual salary of ${1}.\".format(emp2.get_emp_name(),emp2.get_salary()))"
   ]
  },
  {
   "cell_type": "code",
   "execution_count": 7,
   "metadata": {},
   "outputs": [],
   "source": [
    "#Hourly Employee class inherits from Employee class\n",
    "#the order of the five required positional arguments should be: name,address,vehicle object,hours worked,hourly rate\n",
    "\n",
    "class HourlyEmployee(Employee):\n",
    "\n",
    "    def __init__(self, nm, addr, veh, hw, hr):\n",
    "        super().__init__(nm, addr, veh)\n",
    "        self.__hours_wrkd = hw\n",
    "        self.__hourly_rate = hr\n",
    "\n",
    "    def get_hours_worked(self):\n",
    "        return self.__hours_wrkd\n",
    "\n",
    "    def get_hourly_rate(self):\n",
    "        return self.__hourly_rate            \n",
    "\n",
    "    def set_hours_worked(self, hw):\n",
    "        self.__hours_wrkd = hw\n",
    "\n",
    "    def set_hourly_rate(self, hr):\n",
    "        self.__hourly_rate = hr\n",
    "\n",
    "    def compute_compensation(self):\n",
    "        if self.__hours_wrkd > 40:\n",
    "            return self.__hourly_rate * 40 + self.__hourly_rate * 1.8 * (self.__hours_wrkd - 40)\n",
    "        else:\n",
    "            return self.__hourly_rate * self.__hours_wrkd\n",
    "        \n",
    "    def compute_reimbursement(self,wexp):\n",
    "        if wexp <= 100:\n",
    "            wreimb = wexp\n",
    "        else :\n",
    "            wreimb = 100\n",
    "        return (wreimb)\n",
    "\n",
    "    def __str__(self):\n",
    "        childData = super().__str__()\n",
    "        childData = \"\\nDetails of this Hourly Employee are:\" + childData\n",
    "        childData += \"\\nHours Worked: \" + str(self.__hours_wrkd)\n",
    "        childData += \"; Hourly Rate: \" + str(self.__hourly_rate)\n",
    "        return childData"
   ]
  },
  {
   "cell_type": "code",
   "execution_count": 8,
   "metadata": {},
   "outputs": [
    {
     "name": "stdout",
     "output_type": "stream",
     "text": [
      "\n",
      "Details of this Hourly Employee are:\n",
      "Employee Name: Grace; Employee Address: 400 W Campbell Road, Richardson, Texas, 75080\n",
      "Make: Honda; Model: Civic; Year of Manufacture: 2012; Mileage: 50000\n",
      "Hours Worked: 50; Hourly Rate: 20\n",
      "Grace works 50 hours per week at an hourly rate of $20.\n",
      "Grace has a weekly compensation of $1160.00.\n",
      "Grace has a weekly reimbursement of $100.00.\n",
      "Grace works 50 hours per week at an hourly rate of $22.\n"
     ]
    }
   ],
   "source": [
    "emp3=HourlyEmployee(\"Grace\", \"400 W Campbell Road, Richardson, Texas, 75080\", vehicle1,50,20)\n",
    "print(emp3)\n",
    "print(\"{0} works {1} hours per week at an hourly rate of ${2}.\".format(emp3.get_emp_name(),emp3.get_hours_worked(),emp3.get_hourly_rate()))\n",
    "print(\"{0} has a weekly compensation of ${1:0.2f}.\".format(emp3.get_emp_name(),emp3.compute_compensation()))\n",
    "print(\"{0} has a weekly reimbursement of ${1:0.2f}.\".format(emp3.get_emp_name(),emp3.compute_reimbursement(120)))\n",
    "emp3.set_hourly_rate(22)\n",
    "print(\"{0} works {1} hours per week at an hourly rate of ${2}.\".format(emp3.get_emp_name(),emp3.get_hours_worked(),emp3.get_hourly_rate()))\n"
   ]
  },
  {
   "cell_type": "code",
   "execution_count": 9,
   "metadata": {},
   "outputs": [],
   "source": [
    "#Consultant class inherits from Employee class\n",
    "#the order of the five required positional arguments should be: name,address,vehicle object,hours worked,project type\n",
    "\n",
    "class Consultant(Employee):\n",
    "    def __init__(self, nm, addr, veh, hw, pt):\n",
    "        Employee.__init__(self,nm, addr, veh)\n",
    "        self.__hours_wrkd = hw\n",
    "        self.__project_type = pt\n",
    "\n",
    "    def get_hours_worked(self):\n",
    "        return self.__hours_wrkd        \n",
    "\n",
    "    def get_project_type(self):\n",
    "        return self.__project_type\n",
    "\n",
    "    def set_hours_worked(self, hw):\n",
    "        self.__hours_wrkd = hw\n",
    "\n",
    "    def set_project_type(self, pt):\n",
    "        self.__project_type = pt\n",
    "\n",
    "    def compute_compensation(self):\n",
    "        if self.__project_type == 1:\n",
    "            hrly_rate = 55\n",
    "        elif self.__project_type == 2:\n",
    "            hrly_rate = 70\n",
    "        else:\n",
    "            hrly_rate = 85\n",
    "        return self.__hours_wrkd * hrly_rate\n",
    "    \n",
    "    def compute_reimbursement(self,cwexp):\n",
    "        if self.__project_type == 1:\n",
    "            cwreimb = cwexp\n",
    "        elif self.__project_type == 2 :\n",
    "            cwreimb = 0.9 * cwexp\n",
    "        else :\n",
    "            cwreimb = 0.8 * cwexp\n",
    "        return (cwreimb)\n",
    "    \n",
    "    \n",
    "    def __str__(self):\n",
    "        childData = super().__str__()\n",
    "        childData = \"\\nDetails of this Consultant are:\" + childData\n",
    "        childData += \"\\nHours Worked: \" + str(self.__hours_wrkd)\n",
    "        childData += \"; Project Type: \" + str(self.__project_type)\n",
    "        return childData"
   ]
  },
  {
   "cell_type": "code",
   "execution_count": 10,
   "metadata": {},
   "outputs": [
    {
     "name": "stdout",
     "output_type": "stream",
     "text": [
      "\n",
      "Details of this Consultant are:\n",
      "Employee Name: Michael; Employee Address: 700 W Campbell Road, Richardson, Texas, 75080\n",
      "Make: Honda; Model: Civic; Year of Manufacture: 2012; Mileage: 50000\n",
      "Hours Worked: 40; Project Type: 2\n",
      "Michael works 40 hours per week for type 2 project.\n",
      "Michael has a weekly compensation of $2800.00.\n",
      "Michael has a weekly reimbursement of $270.00.\n",
      "Michael works 35 hours per week for type 2 project.\n"
     ]
    }
   ],
   "source": [
    "emp4=Consultant(\"Michael\", \"700 W Campbell Road, Richardson, Texas, 75080\",vehicle1,40,2)\n",
    "print(emp4)\n",
    "print(\"{0} works {1} hours per week for type {2} project.\".format(emp4.get_emp_name(),emp4.get_hours_worked(),emp4.get_project_type()))\n",
    "print(\"{0} has a weekly compensation of ${1:0.2f}.\".format(emp4.get_emp_name(),emp4.compute_compensation()))\n",
    "print(\"{0} has a weekly reimbursement of ${1:0.2f}.\".format(emp4.get_emp_name(),emp4.compute_reimbursement(300)))\n",
    "emp4.set_hours_worked(35)\n",
    "print(\"{0} works {1} hours per week for type {2} project.\".format(emp4.get_emp_name(),emp4.get_hours_worked(),emp4.get_project_type()))\n"
   ]
  },
  {
   "cell_type": "code",
   "execution_count": 11,
   "metadata": {},
   "outputs": [],
   "source": [
    "#Management class inherits from both Full Time Employee class and Consultant class\n",
    "#the order of the six required positional arguments should be: name, address,vehicle object, salary, hours worked, project type\n",
    "\n",
    "\n",
    "class Management(FullTimeEmployee,Consultant):\n",
    "    def __init__(self,nm, addr, veh, sal, hw, pt):\n",
    "        FullTimeEmployee.__init__(self, nm, addr, veh, sal)\n",
    "        Consultant.__init__(self, nm, addr, veh, hw, pt)\n",
    "        \n",
    "    def compute_compensation(self):\n",
    "        compensation = FullTimeEmployee.compute_compensation(self) + Consultant.compute_compensation(self)\n",
    "        return compensation\n",
    "    \n",
    "    def compute_reimbursement(self,exp,cwexp):\n",
    "        reimb = FullTimeEmployee.compute_reimbursement(self,exp) + Consultant.compute_reimbursement(self,cwexp)\n",
    "        return reimb\n",
    "    \n",
    "    def __str__(self):\n",
    "        data = \"\\nDetails of this Management are:\"\n",
    "        data += Employee.__str__(self) + \"\\n\"\n",
    "        data += \"Salary: \"+str(FullTimeEmployee.get_salary(self))+\"; \"\n",
    "        data += \"Hours Worked: \"+str(Consultant.get_hours_worked(self))+\"; Project Type: \"+str(Consultant.get_project_type(self))\n",
    "        return data"
   ]
  },
  {
   "cell_type": "code",
   "execution_count": 12,
   "metadata": {},
   "outputs": [
    {
     "name": "stdout",
     "output_type": "stream",
     "text": [
      "\n",
      "Details of this Management are:\n",
      "Employee Name: Jane; Employee Address: 1000 W Campbell Road, Richardson, Texas, 75080\n",
      "Make: Honda; Model: Civic; Year of Manufacture: 2012; Mileage: 50000\n",
      "Salary: 120000; Hours Worked: 10; Project Type: 3\n",
      "\n",
      "\n",
      "Jane has an annual salary of $120000.\n",
      "Jane works 10 hours per week for type 3 project.\n",
      "Jane has a weekly compensation of $2561.54.\n",
      "Jane has a weekly reimbursement of $393.85.\n"
     ]
    }
   ],
   "source": [
    "emp5=Management(\"Jane\", \"1000 W Campbell Road, Richardson, Texas, 75080\",vehicle1,120000,10,3)\n",
    "print(emp5)\n",
    "print(\"\\n\")\n",
    "print(\"{0} has an annual salary of ${1}.\".format(emp5.get_emp_name(),emp5.get_salary()))\n",
    "print(\"{0} works {1} hours per week for type {2} project.\".format(emp5.get_emp_name(),emp5.get_hours_worked(),emp5.get_project_type()))\n",
    "print(\"{0} has a weekly compensation of ${1:0.2f}.\".format(emp5.get_emp_name(),emp5.compute_compensation()))\n",
    "print(\"{0} has a weekly reimbursement of ${1:0.2f}.\".format(emp5.get_emp_name(),emp5.compute_reimbursement(8000,300)))"
   ]
  },
  {
   "cell_type": "code",
   "execution_count": 13,
   "metadata": {},
   "outputs": [],
   "source": [
    "#this function is used to ask for basic employee information and then return them: name and address\n",
    "\n",
    "def get_emp_input():\n",
    "    name = input(\"Enter the employee's name: \")\n",
    "    addr = input(\"Enter the employee's address: \")\n",
    "    return name,addr"
   ]
  },
  {
   "cell_type": "code",
   "execution_count": 14,
   "metadata": {},
   "outputs": [
    {
     "name": "stdout",
     "output_type": "stream",
     "text": [
      "Enter the employee's name: Bob\n",
      "Enter the employee's address: 350 E Campbell Road, Richardson, Texas, 75080\n",
      "Bob lives at 350 E Campbell Road, Richardson, Texas, 75080.\n"
     ]
    }
   ],
   "source": [
    "name, address=get_emp_input()\n",
    "print(\"{0} lives at {1}.\".format(name,address))"
   ]
  },
  {
   "cell_type": "code",
   "execution_count": 15,
   "metadata": {},
   "outputs": [],
   "source": [
    "#this function is used to ask for vehicle information and then return them: make,model,year,mileage\n",
    "\n",
    "def get_vehicle_input():\n",
    "    veh_make = input('Enter the vehicle make: ')\n",
    "    veh_model = input('Enter the vehicle model: ')\n",
    "    veh_year = int(input('Enter the year of manufacture (yyyy):'))\n",
    "        \n",
    "    while True:\n",
    "        try:\n",
    "            if veh_year >= 1900 and veh_year <= 2020:\n",
    "                break\n",
    "            raise Exception\n",
    "        except Exception :\n",
    "            print('Please enter an integer value for year in the format of yyyy between 1900 and 2020.')\n",
    "            veh_year = int(input('Enter the year of manufacture (yyyy):'))\n",
    "            \n",
    "                \n",
    "    veh_mileage = int(input('Enter the mileage:')) \n",
    "    \n",
    "    while True:\n",
    "        try:\n",
    "            if veh_mileage > 0:\n",
    "                break\n",
    "            raise Exception\n",
    "        except Exception :\n",
    "            print('Please enter a positive number.')\n",
    "            veh_mileage = int(input('Enter the mileage:'))\n",
    "    \n",
    "    return (veh_make, veh_model, veh_year, veh_mileage)"
   ]
  },
  {
   "cell_type": "code",
   "execution_count": 16,
   "metadata": {},
   "outputs": [
    {
     "name": "stdout",
     "output_type": "stream",
     "text": [
      "Enter the vehicle make: Ford\n",
      "Enter the vehicle model: Ranger\n",
      "Enter the year of manufacture (yyyy):2021\n",
      "Please enter an integer value for year in the format of yyyy between 1900 and 2020.\n",
      "Enter the year of manufacture (yyyy):2011\n",
      "Enter the mileage:80000\n",
      "The vehicle entered is a Ford Ranger made in 2011 with 80000 mileage curently.\n"
     ]
    }
   ],
   "source": [
    "vehiclemake, vehiclemodel, vehicleyear, vehiclemileage = get_vehicle_input()  \n",
    "print(\"The vehicle entered is a {0} {1} made in {2} with {3} mileage curently.\".format(vehiclemake, vehiclemodel, vehicleyear, vehiclemileage))"
   ]
  },
  {
   "cell_type": "code",
   "execution_count": 17,
   "metadata": {},
   "outputs": [],
   "source": [
    "#this function is used to ask for specific information of full time employees and then return it: annual salary\n",
    "\n",
    "def get_full_time_input():\n",
    "    salary = float(input(\"Enter the annual salary: \"))\n",
    "    return salary"
   ]
  },
  {
   "cell_type": "code",
   "execution_count": 18,
   "metadata": {},
   "outputs": [
    {
     "name": "stdout",
     "output_type": "stream",
     "text": [
      "Enter the annual salary: 80000\n",
      "The annual salary entered is 80000.00\n"
     ]
    }
   ],
   "source": [
    "salary=get_full_time_input()\n",
    "print(\"The annual salary entered is {0:0.2f}\".format(salary))"
   ]
  },
  {
   "cell_type": "code",
   "execution_count": 19,
   "metadata": {},
   "outputs": [],
   "source": [
    "#this function is used to ask for specific information of hourly employees and then return them: hours worked, hourly rate\n",
    "\n",
    "def get_hourly_input():\n",
    "    \n",
    "    hours_worked = int(input(\"Enter the hours worked:\"))\n",
    "    hourly_rate = float(input(\"Enter the hourly rate:\"))\n",
    "    return hours_worked,hourly_rate"
   ]
  },
  {
   "cell_type": "code",
   "execution_count": 20,
   "metadata": {},
   "outputs": [
    {
     "name": "stdout",
     "output_type": "stream",
     "text": [
      "Enter the hours worked:30\n",
      "Enter the hourly rate:20\n",
      "This hourly employee works 30 hours per week at an hourly rate of $20.00\n"
     ]
    }
   ],
   "source": [
    "hours_worked, hourly_rate = get_hourly_input()\n",
    "print(\"This hourly employee works {0} hours per week at an hourly rate of ${1:0.2f}\".format(hours_worked,hourly_rate))"
   ]
  },
  {
   "cell_type": "code",
   "execution_count": 21,
   "metadata": {},
   "outputs": [],
   "source": [
    "#this function is used to ask for specific information of consultants and then return them: hours worked, project type\n",
    "\n",
    "def get_consultant_input():\n",
    "    hoursworked = int(input(\"Enter the hours worked:\"))\n",
    "    project_type = int(input(\"Project Type? (Enter a number between 1 and 3):\"))\n",
    "    return hoursworked,project_type"
   ]
  },
  {
   "cell_type": "code",
   "execution_count": 22,
   "metadata": {},
   "outputs": [
    {
     "name": "stdout",
     "output_type": "stream",
     "text": [
      "Enter the hours worked:40\n",
      "Project Type? (Enter a number between 1 and 3):2\n",
      "This consultant works 40 hours per week for type 2 project.\n"
     ]
    }
   ],
   "source": [
    "hours_worked, project_type = get_consultant_input()\n",
    "print(\"This consultant works {0} hours per week for type {1} project.\".format(hours_worked,project_type))"
   ]
  },
  {
   "cell_type": "code",
   "execution_count": 23,
   "metadata": {},
   "outputs": [],
   "source": [
    "#this function is used to ask for specific information of managements and then return them: annual salary, hours worked, project type\n",
    "\n",
    "def get_management_input():\n",
    "    salary = float(input(\"Enter the annual salary : \"))\n",
    "    hours_wrkd = int(input(\"Enter the hours worked: \"))\n",
    "    project_type = int(input(\"Project Type? (Enter a number between 1 and 3): \"))\n",
    "    return salary , hours_wrkd , project_type"
   ]
  },
  {
   "cell_type": "code",
   "execution_count": 24,
   "metadata": {},
   "outputs": [
    {
     "name": "stdout",
     "output_type": "stream",
     "text": [
      "Enter the annual salary : 100000\n",
      "Enter the hours worked: 8\n",
      "Project Type? (Enter a number between 1 and 3): 3\n",
      "This management has an annual salary of $100000.00. This management also works 8 hours per week additionally for type 3 project.\n"
     ]
    }
   ],
   "source": [
    "salary, hours_worked, project_type = get_management_input()\n",
    "print(\"This management has an annual salary of ${0:0.2f}. This management also works {1} hours per week additionally for type {2} project.\".format(salary, hours_worked,project_type))"
   ]
  },
  {
   "cell_type": "code",
   "execution_count": 25,
   "metadata": {},
   "outputs": [],
   "source": [
    "#this function is used to read information from an existing databse/binary file, which is empdata.dat in the final exam\n",
    "\n",
    "import pickle\n",
    "def read_file_data(): \n",
    "        obj = []\n",
    "        try:\n",
    "            with (open(\"empdata.dat\", \"rb\")) as fb:\n",
    "                 while(True):\n",
    "                        try:\n",
    "                            obj.append(pickle.load(fb))               \n",
    "                        except EOFError :\n",
    "                            break\n",
    "        except FileNotFoundError:\n",
    "                print(\"File doesnot exist\") \n",
    "        return obj"
   ]
  },
  {
   "cell_type": "code",
   "execution_count": 26,
   "metadata": {},
   "outputs": [
    {
     "name": "stdout",
     "output_type": "stream",
     "text": [
      "There are 9 employees stored in the database.\n",
      "\n",
      "Below is the information of the first employee in the database: \n",
      "Details of this Full Time Employee are:\n",
      "Employee Name: Amy; Employee Address: 100 W Campbell Road, Richardson, Texas, 75080\n",
      "Make: Honda; Model: Civic; Year of Manufacture: 2014; Mileage: 50000\n",
      "Salary: 40000.00\n",
      "\n",
      "Amy is the first employee.\n"
     ]
    }
   ],
   "source": [
    "emp_list=read_file_data()\n",
    "print(\"There are {} employees stored in the database.\".format(len(emp_list)))\n",
    "print(\"\\nBelow is the information of the first employee in the database: {}\".format(emp_list[0]))\n",
    "print(\"\\n{} is the first employee.\".format(emp_list[0].get_emp_name()))"
   ]
  },
  {
   "cell_type": "code",
   "execution_count": 27,
   "metadata": {},
   "outputs": [],
   "source": [
    "#the idea is to walk through users to input required information\n",
    "#the first and foremost step is to ask for emloyee type\n",
    "\n",
    "def run_option1():\n",
    "    #ask for employee type\n",
    "    #exceptions need to be handled here to accept valid input \n",
    "\n",
    "    sel = input(\"Type of Employee?(1-Full Time;2-Hourly;3-Consultant;4-Management) :\")\n",
    "        \n",
    "    while True:\n",
    "        try:\n",
    "            if int(sel) >= 1 and int(sel) <= 4:\n",
    "                break\n",
    "            raise Exception\n",
    "        except Exception :\n",
    "            print('Please select an option from 1, 2, 3, and 4.')\n",
    "            sel = input(\"Type of Employee?(1-Full Time;2-Hourly;3-Consultant;4-Management) :\")\n",
    "            \n",
    "    sel = int(sel)\n",
    "    \n",
    "    #call the previous get_emp_input() to ask for employee information and store the values      \n",
    "    name, address = get_emp_input()\n",
    "    \n",
    "    #call the previous get_vehicle_input() to ask for vehicle information and store the values\n",
    "    vehiclemake, vehiclemodel, vehicleyear, vehiclemileage = get_vehicle_input()    \n",
    "    \n",
    "    #create an object of Vehicle class using the prervious information\n",
    "    a_vehicle = Vehicle(vehiclemake, vehiclemodel, vehicleyear, vehiclemileage)\n",
    "    \n",
    "    #depending on previous input, call the prervious functions to ask for corresponding information\n",
    "    #then use all the required information to create an object of a certain class \n",
    "    #type 1:annual salary\n",
    "    #type 2:hours worked,hourly rate\n",
    "    #type 3:hours worked, project type\n",
    "    #type 4:annual salary, hours worked, project type\n",
    "    if sel == 1:\n",
    "        sal = get_full_time_input()\n",
    "        an_emp = FullTimeEmployee(name, address, a_vehicle,sal)\n",
    "    elif sel == 2:\n",
    "        hw, hr = get_hourly_input()\n",
    "        an_emp = HourlyEmployee(name, address, a_vehicle, hw, hr)\n",
    "    elif sel == 3:\n",
    "        hw, pt = get_consultant_input()\n",
    "        an_emp = Consultant(name, address, a_vehicle, hw, pt)\n",
    "    elif sel ==4:\n",
    "        sal, hw, pt = get_management_input()\n",
    "        an_emp = Management(name, address, a_vehicle, sal, hw, pt)\n",
    "    \n",
    "    print(an_emp)\n",
    "    \n",
    "    print(\"\\n============================================================\")        \n",
    "    print(\"New employee entered successfully! Now going to the main menu.\")\n",
    "    print(\"==============================================================\")      \n",
    "    return an_emp"
   ]
  },
  {
   "cell_type": "code",
   "execution_count": 28,
   "metadata": {},
   "outputs": [
    {
     "name": "stdout",
     "output_type": "stream",
     "text": [
      "Type of Employee?(1-Full Time;2-Hourly;3-Consultant;4-Management) :5\n",
      "Please select an option from 1, 2, 3, and 4.\n",
      "Type of Employee?(1-Full Time;2-Hourly;3-Consultant;4-Management) :zzz\n",
      "Please select an option from 1, 2, 3, and 4.\n",
      "Type of Employee?(1-Full Time;2-Hourly;3-Consultant;4-Management) :4\n",
      "Enter the employee's name: David\n",
      "Enter the employee's address: 103 E Campbell Road, Richardson, Texas, 75080\n",
      "Enter the vehicle make: BMW\n",
      "Enter the vehicle model: X3\n",
      "Enter the year of manufacture (yyyy):2018\n",
      "Enter the mileage:5000\n",
      "Enter the annual salary : 110000\n",
      "Enter the hours worked: 5\n",
      "Project Type? (Enter a number between 1 and 3): 2\n",
      "\n",
      "Details of this Management are:\n",
      "Employee Name: David; Employee Address: 103 E Campbell Road, Richardson, Texas, 75080\n",
      "Make: BMW; Model: X3; Year of Manufacture: 2018; Mileage: 5000\n",
      "Salary: 110000.0; Hours Worked: 5; Project Type: 2\n",
      "\n",
      "============================================================\n",
      "New employee entered successfully! Now going to the main menu.\n",
      "==============================================================\n"
     ]
    },
    {
     "data": {
      "text/plain": [
       "<__main__.Management at 0x26cc17fe460>"
      ]
     },
     "execution_count": 28,
     "metadata": {},
     "output_type": "execute_result"
    }
   ],
   "source": [
    "run_option1()"
   ]
  },
  {
   "cell_type": "code",
   "execution_count": 30,
   "metadata": {},
   "outputs": [],
   "source": [
    "#the function is to print centain number of employees as required by users\n",
    "#first choice:print all employees; second choice: print first 5 employees when there are at least 5 employees (print all if fewer than 5)\n",
    "\n",
    "def run_option2(my_lst):\n",
    "    option = input(\"Do you want to see information of all employees (input 1) or the first 5 employees (input 2)? \" )    \n",
    "    \n",
    "    while True:\n",
    "        try:\n",
    "            if int(option) == 1 or int(option) == 2:\n",
    "                break\n",
    "            raise Exception                  \n",
    "            \n",
    "        except Exception :\n",
    "            print('Please select 1 or 2')\n",
    "            option = input(\"Do you want to see information of all employees (input 1) or the first 5 employees (input 2)? \" )\n",
    "    \n",
    "    if int(option) == 1:\n",
    "        print(\"\\n==========================================================================\")\n",
    "        print(\"Below is the information of all employees stored in the database.\")\n",
    "        print(\"==========================================================================\")  \n",
    "        for i in range(0,len(my_lst)):\n",
    "                print(my_lst[i])\n",
    "            \n",
    "    if int(option) == 2:\n",
    "        print(\"\\n==========================================================================\")\n",
    "        print(\"Below is the information of first 5 employees stored in the database.\")\n",
    "        print(\"==========================================================================\")  \n",
    "        if len(my_lst) >=5:\n",
    "                for i in range(0,5) :\n",
    "                      print(my_lst[i])          "
   ]
  },
  {
   "cell_type": "code",
   "execution_count": 31,
   "metadata": {},
   "outputs": [
    {
     "name": "stdout",
     "output_type": "stream",
     "text": [
      "Do you want to see information of all employees (input 1) or the first 5 employees (input 2)? 3\n",
      "Please select 1 or 2\n",
      "Do you want to see information of all employees (input 1) or the first 5 employees (input 2)? zzz\n",
      "Please select 1 or 2\n",
      "Do you want to see information of all employees (input 1) or the first 5 employees (input 2)? 2\n",
      "\n",
      "==========================================================================\n",
      "Below is the information of first 5 employees stored in the database.\n",
      "==========================================================================\n",
      "\n",
      "Details of this Full Time Employee are:\n",
      "Employee Name: Amy; Employee Address: 100 W Campbell Road, Richardson, Texas, 75080\n",
      "Make: Honda; Model: Civic; Year of Manufacture: 2014; Mileage: 50000\n",
      "Salary: 40000.00\n",
      "\n",
      "Details of this Full Time Employee are:\n",
      "Employee Name: Bob; Employee Address: 200 W Campbell Road, Richardson, Texas, 75080\n",
      "Make: Toyota; Model: Camry; Year of Manufacture: 2010; Mileage: 60000\n",
      "Salary: 80000.00\n",
      "\n",
      "Details of this Full Time Employee are:\n",
      "Employee Name: Evan; Employee Address: 300 W Campbell Road, Richardson, Texas, 75080\n",
      "Make: BMW; Model: X3; Year of Manufacture: 2016; Mileage: 30000\n",
      "Salary: 120000.00\n",
      "\n",
      "Details of this Hourly Employee are:\n",
      "Employee Name: Grace; Employee Address: 400 W Campbell Road, Richardson, Texas, 75080\n",
      "Make: Kia; Model: Rio; Year of Manufacture: 2005; Mileage: 150000\n",
      "Hours Worked: 50; Hourly Rate: 20\n",
      "\n",
      "Details of this Hourly Employee are:\n",
      "Employee Name: James; Employee Address: 500 W Campbell Road, Richardson, Texas, 75080\n",
      "Make: Mazda; Model: Mazda3; Year of Manufacture: 2010; Mileage: 80000\n",
      "Hours Worked: 30; Hourly Rate: 25\n"
     ]
    }
   ],
   "source": [
    "run_option2(emp_list)"
   ]
  },
  {
   "cell_type": "code",
   "execution_count": 32,
   "metadata": {},
   "outputs": [],
   "source": [
    "#the function is used to print compensations of all Employees\n",
    "def run_option3(my_lst):\n",
    "    print(\"\\nEmployee name and Compensation of all Employees\")\n",
    "    print(\"=================================================\")\n",
    "    \n",
    "    for i in range(0,len(my_lst)):\n",
    "        print(\"{0}'s weekly compensation is ${1:0.2f}\".format(my_lst[i].get_emp_name(),my_lst[i].compute_compensation()))\n",
    "    "
   ]
  },
  {
   "cell_type": "code",
   "execution_count": 33,
   "metadata": {},
   "outputs": [
    {
     "name": "stdout",
     "output_type": "stream",
     "text": [
      "\n",
      "Employee name and Compensation of all Employees\n",
      "=================================================\n",
      "Amy's weekly compensation is $630.77\n",
      "Bob's weekly compensation is $1194.23\n",
      "Evan's weekly compensation is $1711.54\n",
      "Grace's weekly compensation is $1160.00\n",
      "James's weekly compensation is $750.00\n",
      "Luna's weekly compensation is $300.00\n",
      "Michael's weekly compensation is $2200.00\n",
      "Tom's weekly compensation is $3500.00\n",
      "Zoey's weekly compensation is $2550.00\n"
     ]
    }
   ],
   "source": [
    "\n",
    "run_option3(emp_list)"
   ]
  },
  {
   "cell_type": "code",
   "execution_count": 34,
   "metadata": {},
   "outputs": [],
   "source": [
    "#the function is used to search for an employee by name and the searching is NOT case sensitive\n",
    "#if there are some matching cases, print the information of all matched employees\n",
    "#if no matchng cases, print \"There is no employee matching the name you entered.\"\n",
    "\n",
    "def run_option4(my_lst):\n",
    "    search = input(\"Please enter the name of the employee you want to search : \")\n",
    "    lst = []\n",
    "    count = 0\n",
    "    for i in range(0,len(my_lst)):\n",
    "            if search.lower() == my_lst[i].get_emp_name().lower():\n",
    "                            lst.append(my_lst[i]) \n",
    "                            count += 1\n",
    " \n",
    "    if count==0:\n",
    "        print(\"There is no employee matching the name you entered.\")\n",
    "    else:\n",
    "                                   \n",
    "        print(\"\\n==========================================================================\")\n",
    "        print(\"Below is the information of all employees that match the name you entered.\")\n",
    "        print(\"==========================================================================\")\n",
    "        for i in range(0,len(lst)):\n",
    "            print(lst[i])\n",
    "        \n",
    "    return lst"
   ]
  },
  {
   "cell_type": "code",
   "execution_count": 35,
   "metadata": {
    "scrolled": true
   },
   "outputs": [
    {
     "name": "stdout",
     "output_type": "stream",
     "text": [
      "Please enter the name of the employee you want to search : TOM\n",
      "\n",
      "==========================================================================\n",
      "Below is the information of all employees that match the name you entered.\n",
      "==========================================================================\n",
      "\n",
      "Details of this Consultant are:\n",
      "Employee Name: Tom; Employee Address: 800 W Campbell Road, Richardson, Texas, 75080\n",
      "Make: Mercedes-Benz; Model: GLE350; Year of Manufacture: 2018; Mileage: 30000\n",
      "Hours Worked: 50; Project Type: 2\n",
      "\n",
      "There are 1 employees matching your search.\n"
     ]
    }
   ],
   "source": [
    "matched_emp_list=run_option4(emp_list)\n",
    "print(\"\\nThere are {} employees matching your search.\".format(len(matched_emp_list)))"
   ]
  },
  {
   "cell_type": "code",
   "execution_count": 36,
   "metadata": {},
   "outputs": [
    {
     "name": "stdout",
     "output_type": "stream",
     "text": [
      "Please enter the name of the employee you want to search : Hongchang\n",
      "There is no employee matching the name you entered.\n"
     ]
    },
    {
     "data": {
      "text/plain": [
       "[]"
      ]
     },
     "execution_count": 36,
     "metadata": {},
     "output_type": "execute_result"
    }
   ],
   "source": [
    "run_option4(emp_list)"
   ]
  },
  {
   "cell_type": "code",
   "execution_count": 37,
   "metadata": {},
   "outputs": [],
   "source": [
    "#the function is used to show some basic statistics. They are: \n",
    "#(1) the number of employees stored in the database\n",
    "#(2) the highest weekly compensation\n",
    "#(3) the mean weekly compensation\n",
    "#(4) the number of employees who have a vehicle with over 100,000 mileage\n",
    "\n",
    "def run_option5(my_lst):\n",
    "    print(\"\\n==========================================================================\")\n",
    "    print(\"Below is the statistics of all employees in this database.\")\n",
    "    print(\"==========================================================================\")\n",
    "    \n",
    "    print(\"There are {} employees stored in this database.\".format(len(my_lst)))\n",
    "    \n",
    "    comp = []\n",
    "    for i in range(0,len(my_lst)):\n",
    "        comp.append(my_lst[i].compute_compensation())\n",
    "        \n",
    "    print(f'The highist weekly compensation is ${max(comp)}')\n",
    "    \n",
    "    print(f'The mean weekly compensation is: ${(round(sum(comp)/len(comp),2))}')\n",
    "                                              \n",
    "    mil =[]\n",
    "    temp = 0\n",
    "    for i in my_lst:\n",
    "        mil += [i.get_vehicle().get_mileage()]\n",
    "    for k in mil:\n",
    "        if int(k) > 100000:\n",
    "                temp+=1\n",
    "                                              \n",
    "    print(\"The number of employees who have a vehicle with over 100,000 mileage is\", temp)\n",
    "                                              "
   ]
  },
  {
   "cell_type": "code",
   "execution_count": 38,
   "metadata": {
    "scrolled": true
   },
   "outputs": [
    {
     "name": "stdout",
     "output_type": "stream",
     "text": [
      "\n",
      "==========================================================================\n",
      "Below is the statistics of all employees in this database.\n",
      "==========================================================================\n",
      "There are 9 employees stored in this database.\n",
      "The highist weekly compensation is $3500\n",
      "The mean weekly compensation is: $1555.17\n",
      "The number of employees who have a vehicle with over 100,000 mileage is 2\n"
     ]
    }
   ],
   "source": [
    "run_option5(emp_list)"
   ]
  },
  {
   "cell_type": "code",
   "execution_count": 39,
   "metadata": {},
   "outputs": [],
   "source": [
    "#the function is used to compute weekly reimbursement (assuming the user has the requirerd information)\n",
    "\n",
    "def run_option6(emp_list):\n",
    "    matched_list=run_option4(emp_list)\n",
    "    choice=int(input(\"Which employee do you want to check (enter a number)? \"))\n",
    "    emp=matched_list[choice-1]\n",
    "    if type(emp) == FullTimeEmployee:\n",
    "            annual_exp = float(input('What is the annual expense? '))\n",
    "            print(\"\\n############################################################\")\n",
    "            print('This employee should have a weekly reimbursement of ${0:0.2f}'.format(emp.compute_reimbursement(annual_exp)))\n",
    "            \n",
    "    elif type(emp) == HourlyEmployee or type(emp) == Consultant :\n",
    "            weekly_exp = float(input('What is the weekly expense? '))\n",
    "            print(\"\\n############################################################\")\n",
    "            print('This employee should have a weekly reimbursement of ${0:0.2f}'.format(emp.compute_reimbursement(weekly_exp)))\n",
    "\n",
    "    else:\n",
    "            annual_exp = float(input('What is the annual expense?'))\n",
    "            weekly_exp = float(input('What is the weekly expense?'))\n",
    "            print(\"\\n############################################################\")\n",
    "            print('This employee should have a weekly reimbursement of ${0:0.2f}'.format(emp.compute_reimbursement(annual_exp,weekly_exp)))"
   ]
  },
  {
   "cell_type": "code",
   "execution_count": 40,
   "metadata": {
    "scrolled": true
   },
   "outputs": [
    {
     "name": "stdout",
     "output_type": "stream",
     "text": [
      "Please enter the name of the employee you want to search : bob\n",
      "\n",
      "==========================================================================\n",
      "Below is the information of all employees that match the name you entered.\n",
      "==========================================================================\n",
      "\n",
      "Details of this Full Time Employee are:\n",
      "Employee Name: Bob; Employee Address: 200 W Campbell Road, Richardson, Texas, 75080\n",
      "Make: Toyota; Model: Camry; Year of Manufacture: 2010; Mileage: 60000\n",
      "Salary: 80000.00\n",
      "Which employee do you want to check (enter a number)? 1\n",
      "What is the annual expense? 8000\n",
      "\n",
      "############################################################\n",
      "This employee should have a weekly reimbursement of $153.85\n"
     ]
    }
   ],
   "source": [
    "run_option6(emp_list)"
   ]
  },
  {
   "cell_type": "code",
   "execution_count": 41,
   "metadata": {},
   "outputs": [
    {
     "name": "stdout",
     "output_type": "stream",
     "text": [
      "Please enter the name of the employee you want to search : james\n",
      "\n",
      "==========================================================================\n",
      "Below is the information of all employees that match the name you entered.\n",
      "==========================================================================\n",
      "\n",
      "Details of this Hourly Employee are:\n",
      "Employee Name: James; Employee Address: 500 W Campbell Road, Richardson, Texas, 75080\n",
      "Make: Mazda; Model: Mazda3; Year of Manufacture: 2010; Mileage: 80000\n",
      "Hours Worked: 30; Hourly Rate: 25\n",
      "Which employee do you want to check (enter a number)? 1\n",
      "What is the weekly expense? 130\n",
      "\n",
      "############################################################\n",
      "This employee should have a weekly reimbursement of $100.00\n"
     ]
    }
   ],
   "source": [
    "run_option6(emp_list)"
   ]
  },
  {
   "cell_type": "code",
   "execution_count": 42,
   "metadata": {},
   "outputs": [],
   "source": [
    "#the function is used to store changes into a new file/database (i.e. empdata_updated.dat) and exit the program\n",
    "\n",
    "import sys\n",
    "def run_option7(my_lst):\n",
    "    print(\"You chose to exit the program \")\n",
    "    exit = input(\"Are you sure (Y/N)? \")\n",
    "    if exit.lower() =='n':\n",
    "        print(\"\\n=================================\")\n",
    "        print(\"Going back to the selection menu.\")\n",
    "        print(\"=================================\")\n",
    "        \n",
    "    elif exit.lower() =='y':\n",
    "        with open(\"empdata_updated.dat\",\"wb\") as file:\n",
    "            for emp in my_lst:\n",
    "                pickle.dump(emp,file)             \n",
    "            \n",
    "        print(\"\\n=================================\")\n",
    "        print(\"Program successfully being closed\")\n",
    "        print(\"=================================\")\n",
    "        sys.exit()\n",
    "    \n",
    "    else:\n",
    "        print(\"Your input doesn't match any valid option and has been considered as 'N'.\")\n",
    "        print(\"Going back to the selection menu.\")"
   ]
  },
  {
   "cell_type": "code",
   "execution_count": 43,
   "metadata": {},
   "outputs": [
    {
     "name": "stdout",
     "output_type": "stream",
     "text": [
      "You chose to exit the program \n",
      "Are you sure (Y/N)? b\n",
      "Your input doesn't match any valid option and has been considered as 'N'.\n",
      "Going back to the selection menu.\n"
     ]
    }
   ],
   "source": [
    "run_option7(emp_list)"
   ]
  },
  {
   "cell_type": "code",
   "execution_count": 44,
   "metadata": {},
   "outputs": [
    {
     "name": "stdout",
     "output_type": "stream",
     "text": [
      "You chose to exit the program \n",
      "Are you sure (Y/N)? n\n",
      "\n",
      "=================================\n",
      "Going back to the selection menu.\n",
      "=================================\n"
     ]
    }
   ],
   "source": [
    "run_option7(emp_list)"
   ]
  },
  {
   "cell_type": "code",
   "execution_count": 45,
   "metadata": {},
   "outputs": [
    {
     "name": "stdout",
     "output_type": "stream",
     "text": [
      "You chose to exit the program \n",
      "Are you sure (Y/N)? y\n",
      "\n",
      "=================================\n",
      "Program successfully being closed\n",
      "=================================\n"
     ]
    },
    {
     "ename": "SystemExit",
     "evalue": "",
     "output_type": "error",
     "traceback": [
      "An exception has occurred, use %tb to see the full traceback.\n",
      "\u001b[1;31mSystemExit\u001b[0m\n"
     ]
    },
    {
     "name": "stderr",
     "output_type": "stream",
     "text": [
      "C:\\Users\\medhi\\anaconda3\\lib\\site-packages\\IPython\\core\\interactiveshell.py:3426: UserWarning: To exit: use 'exit', 'quit', or Ctrl-D.\n",
      "  warn(\"To exit: use 'exit', 'quit', or Ctrl-D.\", stacklevel=1)\n"
     ]
    }
   ],
   "source": [
    "run_option7(emp_list)"
   ]
  },
  {
   "cell_type": "code",
   "execution_count": 46,
   "metadata": {},
   "outputs": [],
   "source": [
    "#the application menu provides 7 options\n",
    "#when user selects a valid option (except for 7), execute that option and come back to the menu again\n",
    "\n",
    "def run_menu_options():\n",
    "    #read employee objects in to a list\n",
    "    emp_list = read_file_data()\n",
    "    while True:\n",
    "    #display 7 options and ask users to select from them and execute the selection\n",
    "        sel = 1\n",
    "        while int(sel) <=  7 and int(sel) >= 1:\n",
    "        #display options\n",
    "            print(\"\\n==== Menu ====\")\n",
    "            print(\"1. To add an employee\")\n",
    "            print(\"2. To print the name and address of employees\")\n",
    "            print(\"3. To print the employee name and compensation of all employees\")\n",
    "            print(\"4. To search for employees by name\")\n",
    "            print(\"5. To check the basic statistics of employees\")\n",
    "            print(\"6. To calculate the reimbursement of one employee\")\n",
    "            print(\"7. To exit program\")\n",
    "            \n",
    "            try:\n",
    "                sel = int(input(\"Your selection is: \"))\n",
    "                    \n",
    "\n",
    "            except ValueError:\n",
    "                    print(\"\\n=========================================\")\n",
    "                    print(\"You must enter an integer between 1 and 7!\")\n",
    "                    print(\"=========================================\")\n",
    "                    continue\n",
    "\n",
    "            #execute selection\n",
    "            if sel == 1:\n",
    "                emp_list.append(run_option1())\n",
    "            elif sel == 2:\n",
    "                run_option2(emp_list)\n",
    "            elif sel == 3:\n",
    "                run_option3(emp_list)\n",
    "            elif sel == 4:\n",
    "                run_option4(emp_list)\n",
    "            elif sel == 5:\n",
    "                run_option5(emp_list)\n",
    "            elif sel == 6:\n",
    "                run_option6(emp_list)\n",
    "            elif sel == 7:  \n",
    "                run_option7(emp_list)\n",
    "            else:\n",
    "                print(\"\\n=========================================\")\n",
    "                print(\"You must enter an integer between 1 and 7!\")\n",
    "                print(\"=========================================\")"
   ]
  },
  {
   "cell_type": "code",
   "execution_count": 47,
   "metadata": {},
   "outputs": [
    {
     "name": "stdout",
     "output_type": "stream",
     "text": [
      "\n",
      "==== Menu ====\n",
      "1. To add an employee\n",
      "2. To print the name and address of employees\n",
      "3. To print the employee name and compensation of all employees\n",
      "4. To search for employees by name\n",
      "5. To check the basic statistics of employees\n",
      "6. To calculate the reimbursement of one employee\n",
      "7. To exit program\n",
      "Your selection is: 0\n",
      "\n",
      "=========================================\n",
      "You must enter an integer between 1 and 7!\n",
      "=========================================\n",
      "\n",
      "==== Menu ====\n",
      "1. To add an employee\n",
      "2. To print the name and address of employees\n",
      "3. To print the employee name and compensation of all employees\n",
      "4. To search for employees by name\n",
      "5. To check the basic statistics of employees\n",
      "6. To calculate the reimbursement of one employee\n",
      "7. To exit program\n",
      "Your selection is: 8\n",
      "\n",
      "=========================================\n",
      "You must enter an integer between 1 and 7!\n",
      "=========================================\n",
      "\n",
      "==== Menu ====\n",
      "1. To add an employee\n",
      "2. To print the name and address of employees\n",
      "3. To print the employee name and compensation of all employees\n",
      "4. To search for employees by name\n",
      "5. To check the basic statistics of employees\n",
      "6. To calculate the reimbursement of one employee\n",
      "7. To exit program\n",
      "Your selection is: zzz\n",
      "\n",
      "=========================================\n",
      "You must enter an integer between 1 and 7!\n",
      "=========================================\n",
      "\n",
      "==== Menu ====\n",
      "1. To add an employee\n",
      "2. To print the name and address of employees\n",
      "3. To print the employee name and compensation of all employees\n",
      "4. To search for employees by name\n",
      "5. To check the basic statistics of employees\n",
      "6. To calculate the reimbursement of one employee\n",
      "7. To exit program\n",
      "Your selection is: 7\n",
      "You chose to exit the program \n",
      "Are you sure (Y/N)? n\n",
      "\n",
      "=================================\n",
      "Going back to the selection menu.\n",
      "=================================\n",
      "\n",
      "==== Menu ====\n",
      "1. To add an employee\n",
      "2. To print the name and address of employees\n",
      "3. To print the employee name and compensation of all employees\n",
      "4. To search for employees by name\n",
      "5. To check the basic statistics of employees\n",
      "6. To calculate the reimbursement of one employee\n",
      "7. To exit program\n",
      "Your selection is: 7\n",
      "You chose to exit the program \n",
      "Are you sure (Y/N)? y\n",
      "\n",
      "=================================\n",
      "Program successfully being closed\n",
      "=================================\n"
     ]
    },
    {
     "ename": "SystemExit",
     "evalue": "",
     "output_type": "error",
     "traceback": [
      "An exception has occurred, use %tb to see the full traceback.\n",
      "\u001b[1;31mSystemExit\u001b[0m\n"
     ]
    }
   ],
   "source": [
    "\n",
    "run_menu_options()"
   ]
  },
  {
   "cell_type": "code",
   "execution_count": 48,
   "metadata": {
    "scrolled": false
   },
   "outputs": [
    {
     "name": "stdout",
     "output_type": "stream",
     "text": [
      "\n",
      "==== Menu ====\n",
      "1. To add an employee\n",
      "2. To print the name and address of employees\n",
      "3. To print the employee name and compensation of all employees\n",
      "4. To search for employees by name\n",
      "5. To check the basic statistics of employees\n",
      "6. To calculate the reimbursement of one employee\n",
      "7. To exit program\n",
      "Your selection is: 1\n",
      "Type of Employee?(1-Full Time;2-Hourly;3-Consultant;4-Management) :4\n",
      "Enter the employee's name: David\n",
      "Enter the employee's address: 103 E Campbell Road, Richardson, Texas, 75080\n",
      "Enter the vehicle make: BMW\n",
      "Enter the vehicle model: X3\n",
      "Enter the year of manufacture (yyyy):2018\n",
      "Enter the mileage:5000\n",
      "Enter the annual salary : 110000\n",
      "Enter the hours worked: 5\n",
      "Project Type? (Enter a number between 1 and 3): 2\n",
      "\n",
      "Details of this Management are:\n",
      "Employee Name: David; Employee Address: 103 E Campbell Road, Richardson, Texas, 75080\n",
      "Make: BMW; Model: X3; Year of Manufacture: 2018; Mileage: 5000\n",
      "Salary: 110000.0; Hours Worked: 5; Project Type: 2\n",
      "\n",
      "============================================================\n",
      "New employee entered successfully! Now going to the main menu.\n",
      "==============================================================\n",
      "\n",
      "==== Menu ====\n",
      "1. To add an employee\n",
      "2. To print the name and address of employees\n",
      "3. To print the employee name and compensation of all employees\n",
      "4. To search for employees by name\n",
      "5. To check the basic statistics of employees\n",
      "6. To calculate the reimbursement of one employee\n",
      "7. To exit program\n",
      "Your selection is: 1\n",
      "Type of Employee?(1-Full Time;2-Hourly;3-Consultant;4-Management) :4\n",
      "Enter the employee's name: Grace\n",
      "Enter the employee's address: 105 E Campbell Road, Richardson, Texas, 75080\n",
      "Enter the vehicle make: Porsche\n",
      "Enter the vehicle model: Cayenne\n",
      "Enter the year of manufacture (yyyy):2019\n",
      "Enter the mileage:3000\n",
      "Enter the annual salary : 150000\n",
      "Enter the hours worked: 8\n",
      "Project Type? (Enter a number between 1 and 3): 1\n",
      "\n",
      "Details of this Management are:\n",
      "Employee Name: Grace; Employee Address: 105 E Campbell Road, Richardson, Texas, 75080\n",
      "Make: Porsche; Model: Cayenne; Year of Manufacture: 2019; Mileage: 3000\n",
      "Salary: 150000.0; Hours Worked: 8; Project Type: 1\n",
      "\n",
      "============================================================\n",
      "New employee entered successfully! Now going to the main menu.\n",
      "==============================================================\n",
      "\n",
      "==== Menu ====\n",
      "1. To add an employee\n",
      "2. To print the name and address of employees\n",
      "3. To print the employee name and compensation of all employees\n",
      "4. To search for employees by name\n",
      "5. To check the basic statistics of employees\n",
      "6. To calculate the reimbursement of one employee\n",
      "7. To exit program\n",
      "Your selection is: 1\n",
      "Type of Employee?(1-Full Time;2-Hourly;3-Consultant;4-Management) :4\n",
      "Enter the employee's name: Zoey\n",
      "Enter the employee's address: 107 E Campbell Road, Richardson, Texas, 75080\n",
      "Enter the vehicle make: Audi\n",
      "Enter the vehicle model: A3\n",
      "Enter the year of manufacture (yyyy):2015\n",
      "Enter the mileage:35000\n",
      "Enter the annual salary : 90000\n",
      "Enter the hours worked: 10\n",
      "Project Type? (Enter a number between 1 and 3): 3\n",
      "\n",
      "Details of this Management are:\n",
      "Employee Name: Zoey; Employee Address: 107 E Campbell Road, Richardson, Texas, 75080\n",
      "Make: Audi; Model: A3; Year of Manufacture: 2015; Mileage: 35000\n",
      "Salary: 90000.0; Hours Worked: 10; Project Type: 3\n",
      "\n",
      "============================================================\n",
      "New employee entered successfully! Now going to the main menu.\n",
      "==============================================================\n",
      "\n",
      "==== Menu ====\n",
      "1. To add an employee\n",
      "2. To print the name and address of employees\n",
      "3. To print the employee name and compensation of all employees\n",
      "4. To search for employees by name\n",
      "5. To check the basic statistics of employees\n",
      "6. To calculate the reimbursement of one employee\n",
      "7. To exit program\n",
      "Your selection is: 2\n",
      "Do you want to see information of all employees (input 1) or the first 5 employees (input 2)? 1\n",
      "\n",
      "==========================================================================\n",
      "Below is the information of all employees stored in the database.\n",
      "==========================================================================\n",
      "\n",
      "Details of this Full Time Employee are:\n",
      "Employee Name: Amy; Employee Address: 100 W Campbell Road, Richardson, Texas, 75080\n",
      "Make: Honda; Model: Civic; Year of Manufacture: 2014; Mileage: 50000\n",
      "Salary: 40000.00\n",
      "\n",
      "Details of this Full Time Employee are:\n",
      "Employee Name: Bob; Employee Address: 200 W Campbell Road, Richardson, Texas, 75080\n",
      "Make: Toyota; Model: Camry; Year of Manufacture: 2010; Mileage: 60000\n",
      "Salary: 80000.00\n",
      "\n",
      "Details of this Full Time Employee are:\n",
      "Employee Name: Evan; Employee Address: 300 W Campbell Road, Richardson, Texas, 75080\n",
      "Make: BMW; Model: X3; Year of Manufacture: 2016; Mileage: 30000\n",
      "Salary: 120000.00\n",
      "\n",
      "Details of this Hourly Employee are:\n",
      "Employee Name: Grace; Employee Address: 400 W Campbell Road, Richardson, Texas, 75080\n",
      "Make: Kia; Model: Rio; Year of Manufacture: 2005; Mileage: 150000\n",
      "Hours Worked: 50; Hourly Rate: 20\n",
      "\n",
      "Details of this Hourly Employee are:\n",
      "Employee Name: James; Employee Address: 500 W Campbell Road, Richardson, Texas, 75080\n",
      "Make: Mazda; Model: Mazda3; Year of Manufacture: 2010; Mileage: 80000\n",
      "Hours Worked: 30; Hourly Rate: 25\n",
      "\n",
      "Details of this Hourly Employee are:\n",
      "Employee Name: Luna; Employee Address: 600 W Campbell Road, Richardson, Texas, 75080\n",
      "Make: Nissan; Model: Sentra; Year of Manufacture: 2005; Mileage: 160000\n",
      "Hours Worked: 20; Hourly Rate: 15\n",
      "\n",
      "Details of this Consultant are:\n",
      "Employee Name: Michael; Employee Address: 700 W Campbell Road, Richardson, Texas, 75080\n",
      "Make: Ford; Model: Ranger; Year of Manufacture: 2011; Mileage: 80000\n",
      "Hours Worked: 40; Project Type: 1\n",
      "\n",
      "Details of this Consultant are:\n",
      "Employee Name: Tom; Employee Address: 800 W Campbell Road, Richardson, Texas, 75080\n",
      "Make: Mercedes-Benz; Model: GLE350; Year of Manufacture: 2018; Mileage: 30000\n",
      "Hours Worked: 50; Project Type: 2\n",
      "\n",
      "Details of this Consultant are:\n",
      "Employee Name: Zoey; Employee Address: 900 W Campbell Road, Richardson, Texas, 75080\n",
      "Make: Tesla; Model: Model3; Year of Manufacture: 2018; Mileage: 15000\n",
      "Hours Worked: 30; Project Type: 3\n",
      "\n",
      "Details of this Management are:\n",
      "Employee Name: David; Employee Address: 103 E Campbell Road, Richardson, Texas, 75080\n",
      "Make: BMW; Model: X3; Year of Manufacture: 2018; Mileage: 5000\n",
      "Salary: 110000.0; Hours Worked: 5; Project Type: 2\n",
      "\n",
      "Details of this Management are:\n",
      "Employee Name: Grace; Employee Address: 105 E Campbell Road, Richardson, Texas, 75080\n",
      "Make: Porsche; Model: Cayenne; Year of Manufacture: 2019; Mileage: 3000\n",
      "Salary: 150000.0; Hours Worked: 8; Project Type: 1\n",
      "\n",
      "Details of this Management are:\n",
      "Employee Name: Zoey; Employee Address: 107 E Campbell Road, Richardson, Texas, 75080\n",
      "Make: Audi; Model: A3; Year of Manufacture: 2015; Mileage: 35000\n",
      "Salary: 90000.0; Hours Worked: 10; Project Type: 3\n",
      "\n",
      "==== Menu ====\n",
      "1. To add an employee\n",
      "2. To print the name and address of employees\n",
      "3. To print the employee name and compensation of all employees\n",
      "4. To search for employees by name\n",
      "5. To check the basic statistics of employees\n",
      "6. To calculate the reimbursement of one employee\n",
      "7. To exit program\n",
      "Your selection is: 3\n",
      "\n",
      "Employee name and Compensation of all Employees\n",
      "=================================================\n",
      "Amy's weekly compensation is $630.77\n",
      "Bob's weekly compensation is $1194.23\n",
      "Evan's weekly compensation is $1711.54\n",
      "Grace's weekly compensation is $1160.00\n",
      "James's weekly compensation is $750.00\n",
      "Luna's weekly compensation is $300.00\n",
      "Michael's weekly compensation is $2200.00\n",
      "Tom's weekly compensation is $3500.00\n",
      "Zoey's weekly compensation is $2550.00\n",
      "David's weekly compensation is $1932.69\n",
      "Grace's weekly compensation is $2538.08\n",
      "Zoey's weekly compensation is $2175.00\n",
      "\n",
      "==== Menu ====\n",
      "1. To add an employee\n",
      "2. To print the name and address of employees\n",
      "3. To print the employee name and compensation of all employees\n",
      "4. To search for employees by name\n",
      "5. To check the basic statistics of employees\n",
      "6. To calculate the reimbursement of one employee\n",
      "7. To exit program\n",
      "Your selection is: 4\n",
      "Please enter the name of the employee you want to search : grace\n",
      "\n",
      "==========================================================================\n",
      "Below is the information of all employees that match the name you entered.\n",
      "==========================================================================\n",
      "\n",
      "Details of this Hourly Employee are:\n",
      "Employee Name: Grace; Employee Address: 400 W Campbell Road, Richardson, Texas, 75080\n",
      "Make: Kia; Model: Rio; Year of Manufacture: 2005; Mileage: 150000\n",
      "Hours Worked: 50; Hourly Rate: 20\n",
      "\n",
      "Details of this Management are:\n",
      "Employee Name: Grace; Employee Address: 105 E Campbell Road, Richardson, Texas, 75080\n",
      "Make: Porsche; Model: Cayenne; Year of Manufacture: 2019; Mileage: 3000\n",
      "Salary: 150000.0; Hours Worked: 8; Project Type: 1\n",
      "\n",
      "==== Menu ====\n",
      "1. To add an employee\n",
      "2. To print the name and address of employees\n",
      "3. To print the employee name and compensation of all employees\n",
      "4. To search for employees by name\n",
      "5. To check the basic statistics of employees\n",
      "6. To calculate the reimbursement of one employee\n",
      "7. To exit program\n"
     ]
    },
    {
     "name": "stdout",
     "output_type": "stream",
     "text": [
      "Your selection is: 5\n",
      "\n",
      "==========================================================================\n",
      "Below is the statistics of all employees in this database.\n",
      "==========================================================================\n",
      "There are 12 employees stored in this database.\n",
      "The highist weekly compensation is $3500\n",
      "The mean weekly compensation is: $1720.19\n",
      "The number of employees who have a vehicle with over 100,000 mileage is 2\n",
      "\n",
      "==== Menu ====\n",
      "1. To add an employee\n",
      "2. To print the name and address of employees\n",
      "3. To print the employee name and compensation of all employees\n",
      "4. To search for employees by name\n",
      "5. To check the basic statistics of employees\n",
      "6. To calculate the reimbursement of one employee\n",
      "7. To exit program\n",
      "Your selection is: 6\n",
      "Please enter the name of the employee you want to search : ZOEY\n",
      "\n",
      "==========================================================================\n",
      "Below is the information of all employees that match the name you entered.\n",
      "==========================================================================\n",
      "\n",
      "Details of this Consultant are:\n",
      "Employee Name: Zoey; Employee Address: 900 W Campbell Road, Richardson, Texas, 75080\n",
      "Make: Tesla; Model: Model3; Year of Manufacture: 2018; Mileage: 15000\n",
      "Hours Worked: 30; Project Type: 3\n",
      "\n",
      "Details of this Management are:\n",
      "Employee Name: Zoey; Employee Address: 107 E Campbell Road, Richardson, Texas, 75080\n",
      "Make: Audi; Model: A3; Year of Manufacture: 2015; Mileage: 35000\n",
      "Salary: 90000.0; Hours Worked: 10; Project Type: 3\n",
      "Which employee do you want to check (enter a number)? 1\n",
      "What is the weekly expense? 120\n",
      "\n",
      "############################################################\n",
      "This employee should have a weekly reimbursement of $96.00\n",
      "\n",
      "==== Menu ====\n",
      "1. To add an employee\n",
      "2. To print the name and address of employees\n",
      "3. To print the employee name and compensation of all employees\n",
      "4. To search for employees by name\n",
      "5. To check the basic statistics of employees\n",
      "6. To calculate the reimbursement of one employee\n",
      "7. To exit program\n",
      "Your selection is: 7\n",
      "You chose to exit the program \n",
      "Are you sure (Y/N)? y\n",
      "\n",
      "=================================\n",
      "Program successfully being closed\n",
      "=================================\n"
     ]
    },
    {
     "ename": "SystemExit",
     "evalue": "",
     "output_type": "error",
     "traceback": [
      "An exception has occurred, use %tb to see the full traceback.\n",
      "\u001b[1;31mSystemExit\u001b[0m\n"
     ]
    }
   ],
   "source": [
    "#step 1: choose option 1 three times and enter the following three employees\n",
    "#type 4 employee: David; 103 E Campbell Road, Richardson, Texas, 75080; BMW; X3; 2018;5000;110000;5;2\n",
    "#type 4 employee: Grace; 105 E Campbell Road, Richardson, Texas, 75080; Porsche; Cayenne; 2019;3000;150000;8;1\n",
    "#type 4 employee: Zoey; 107 E Campbell Road, Richardson, Texas, 75080; Audi; A3; 2015;35000;90000;10;3\n",
    "    \n",
    "\n",
    "#step 2: choose option 2\n",
    "#then choose 1\n",
    "\n",
    "#step 3:choose option 3\n",
    "\n",
    "#step 4:choose option 4 \n",
    "#then type in: grace (all lower cases)\n",
    "\n",
    "#step 5:choose option 5\n",
    "\n",
    "#step 6:choose option 6 \n",
    "#then type in: ZOEY (all upper cases); then 1; then 120\n",
    "\n",
    "#step 7:choose option 7\n",
    "#then type in: y\n",
    "run_menu_options()"
   ]
  }
 ],
 "metadata": {
  "kernelspec": {
   "display_name": "Python 3",
   "language": "python",
   "name": "python3"
  },
  "language_info": {
   "codemirror_mode": {
    "name": "ipython",
    "version": 3
   },
   "file_extension": ".py",
   "mimetype": "text/x-python",
   "name": "python",
   "nbconvert_exporter": "python",
   "pygments_lexer": "ipython3",
   "version": "3.8.8"
  }
 },
 "nbformat": 4,
 "nbformat_minor": 2
}
